{
 "cells": [
  {
   "cell_type": "code",
   "execution_count": 1,
   "id": "fcbda9f2-86b9-4b1f-8b65-080c7316297a",
   "metadata": {},
   "outputs": [],
   "source": [
    "import numpy as np"
   ]
  },
  {
   "cell_type": "markdown",
   "id": "2a26ce4e-60eb-4843-92e1-f51c85ed6977",
   "metadata": {},
   "source": [
    "## DataTypes & Attributes"
   ]
  },
  {
   "cell_type": "code",
   "execution_count": 2,
   "id": "53869d6f-e7c8-4417-86a1-04c8a3013577",
   "metadata": {},
   "outputs": [],
   "source": [
    "# NumPy's main dataype in ndarray\n",
    "a1 = np.array([1,2,3,4])"
   ]
  },
  {
   "cell_type": "code",
   "execution_count": 3,
   "id": "31f7d8a3-70e0-4a60-a3f8-89266a1309a0",
   "metadata": {},
   "outputs": [
    {
     "data": {
      "text/plain": [
       "numpy.ndarray"
      ]
     },
     "execution_count": 3,
     "metadata": {},
     "output_type": "execute_result"
    }
   ],
   "source": [
    "type(a1)"
   ]
  },
  {
   "cell_type": "code",
   "execution_count": 144,
   "id": "8f0862b3-c8e7-4417-a9cb-7c7717aff2b7",
   "metadata": {},
   "outputs": [],
   "source": [
    "a2 = np.array([[1,2,3,4],[1,2,3,4],[0.5,0.6,0.7,0.8]])\n",
    "a3 = np.array([[[1,2,3],\n",
    "                [4,5,6],\n",
    "                [7,8,9]],\n",
    "               [[10,11,12],\n",
    "                [13,14,15],\n",
    "                [16,17,18]]])"
   ]
  },
  {
   "cell_type": "code",
   "execution_count": 8,
   "id": "c2e98c83-16e5-46ab-98b1-3a576b9cc2ce",
   "metadata": {},
   "outputs": [
    {
     "data": {
      "text/plain": [
       "(2, 3, 3)"
      ]
     },
     "execution_count": 8,
     "metadata": {},
     "output_type": "execute_result"
    }
   ],
   "source": [
    "a3.shape"
   ]
  },
  {
   "cell_type": "code",
   "execution_count": 9,
   "id": "1800561d-1e7c-4ea0-8e4f-3bcf2e1cce9c",
   "metadata": {},
   "outputs": [
    {
     "data": {
      "text/plain": [
       "3"
      ]
     },
     "execution_count": 9,
     "metadata": {},
     "output_type": "execute_result"
    }
   ],
   "source": [
    "a3.ndim"
   ]
  },
  {
   "cell_type": "code",
   "execution_count": 10,
   "id": "879692ef-8039-4a39-9805-45f64047c9fb",
   "metadata": {},
   "outputs": [
    {
     "data": {
      "text/plain": [
       "dtype('int64')"
      ]
     },
     "execution_count": 10,
     "metadata": {},
     "output_type": "execute_result"
    }
   ],
   "source": [
    "a1.dtype"
   ]
  },
  {
   "cell_type": "code",
   "execution_count": 12,
   "id": "d11b03c6-96f9-46da-8a2a-d6d063820834",
   "metadata": {},
   "outputs": [
    {
     "data": {
      "text/plain": [
       "18"
      ]
     },
     "execution_count": 12,
     "metadata": {},
     "output_type": "execute_result"
    }
   ],
   "source": [
    "a3.size"
   ]
  },
  {
   "cell_type": "code",
   "execution_count": 14,
   "id": "a860f250-e8e6-4740-bc95-6884129fc55e",
   "metadata": {},
   "outputs": [
    {
     "data": {
      "text/plain": [
       "numpy.ndarray"
      ]
     },
     "execution_count": 14,
     "metadata": {},
     "output_type": "execute_result"
    }
   ],
   "source": [
    "type(a1)"
   ]
  },
  {
   "cell_type": "code",
   "execution_count": 18,
   "id": "232ea97d-a079-4bf6-846c-a17a114953c5",
   "metadata": {},
   "outputs": [],
   "source": [
    "## Create a DataFram from a NumPy array\n",
    "import pandas as pd\n",
    "\n",
    "df1 = pd.DataFrame(a1)\n",
    "df2 = pd.DataFrame(a2)"
   ]
  },
  {
   "cell_type": "code",
   "execution_count": 20,
   "id": "8c545b49-71de-497b-bf43-cc71e07e586a",
   "metadata": {},
   "outputs": [
    {
     "data": {
      "text/html": [
       "<div>\n",
       "<style scoped>\n",
       "    .dataframe tbody tr th:only-of-type {\n",
       "        vertical-align: middle;\n",
       "    }\n",
       "\n",
       "    .dataframe tbody tr th {\n",
       "        vertical-align: top;\n",
       "    }\n",
       "\n",
       "    .dataframe thead th {\n",
       "        text-align: right;\n",
       "    }\n",
       "</style>\n",
       "<table border=\"1\" class=\"dataframe\">\n",
       "  <thead>\n",
       "    <tr style=\"text-align: right;\">\n",
       "      <th></th>\n",
       "      <th>0</th>\n",
       "    </tr>\n",
       "  </thead>\n",
       "  <tbody>\n",
       "    <tr>\n",
       "      <th>0</th>\n",
       "      <td>1</td>\n",
       "    </tr>\n",
       "    <tr>\n",
       "      <th>1</th>\n",
       "      <td>2</td>\n",
       "    </tr>\n",
       "    <tr>\n",
       "      <th>2</th>\n",
       "      <td>3</td>\n",
       "    </tr>\n",
       "    <tr>\n",
       "      <th>3</th>\n",
       "      <td>4</td>\n",
       "    </tr>\n",
       "  </tbody>\n",
       "</table>\n",
       "</div>"
      ],
      "text/plain": [
       "   0\n",
       "0  1\n",
       "1  2\n",
       "2  3\n",
       "3  4"
      ]
     },
     "execution_count": 20,
     "metadata": {},
     "output_type": "execute_result"
    }
   ],
   "source": [
    "df1"
   ]
  },
  {
   "cell_type": "markdown",
   "id": "48e01c2f-3d85-4027-ac7b-584f784360b8",
   "metadata": {},
   "source": [
    "## Ceating Array"
   ]
  },
  {
   "cell_type": "code",
   "execution_count": 22,
   "id": "7165f6db-bd69-4012-9831-6f610b0a0330",
   "metadata": {},
   "outputs": [],
   "source": [
    "one = np.ones(2)"
   ]
  },
  {
   "cell_type": "code",
   "execution_count": 23,
   "id": "70702ca1-e561-466d-9d89-4f3e9165680c",
   "metadata": {},
   "outputs": [],
   "source": [
    "zeros = np.zeros(3)"
   ]
  },
  {
   "cell_type": "code",
   "execution_count": 43,
   "id": "48861716-3ede-4006-adb4-7c7dc846364f",
   "metadata": {},
   "outputs": [
    {
     "data": {
      "text/plain": [
       "(9,)"
      ]
     },
     "execution_count": 43,
     "metadata": {},
     "output_type": "execute_result"
    }
   ],
   "source": [
    "range_array = np.arange(1,10,1)"
   ]
  },
  {
   "cell_type": "code",
   "execution_count": 29,
   "id": "8487af96-7cca-4cb7-aea5-0129900003ac",
   "metadata": {},
   "outputs": [],
   "source": [
    "random_array = np.random.randint(50, 1000, 50)"
   ]
  },
  {
   "cell_type": "code",
   "execution_count": 40,
   "id": "9c361aa2-40d6-42bf-bb08-d47169a47eab",
   "metadata": {},
   "outputs": [
    {
     "data": {
      "text/plain": [
       "(50, 1000, 50)"
      ]
     },
     "execution_count": 40,
     "metadata": {},
     "output_type": "execute_result"
    }
   ],
   "source": [
    "random_array_1 = np.random.random((50, 1000, 50))\n",
    "random_array_1.shape"
   ]
  },
  {
   "cell_type": "code",
   "execution_count": 61,
   "id": "f30f455f-fc22-4684-8226-606f3e777c16",
   "metadata": {},
   "outputs": [
    {
     "data": {
      "text/plain": [
       "(50, 1000, 50)"
      ]
     },
     "execution_count": 61,
     "metadata": {},
     "output_type": "execute_result"
    }
   ],
   "source": [
    "random_array_2 = np.random.rand(50, 1000, 50)\n",
    "random_array_2.shape"
   ]
  },
  {
   "cell_type": "code",
   "execution_count": 52,
   "id": "0f1e680e-73ec-4ec3-8aec-6b0445575f0a",
   "metadata": {},
   "outputs": [
    {
     "data": {
      "text/plain": [
       "array([[5, 8, 9],\n",
       "       [5, 0, 0],\n",
       "       [1, 7, 6],\n",
       "       [9, 2, 4],\n",
       "       [5, 2, 4]], dtype=int32)"
      ]
     },
     "execution_count": 52,
     "metadata": {},
     "output_type": "execute_result"
    }
   ],
   "source": [
    "# Pseudoe-random numbers\n",
    "np.random.seed(1)\n",
    "\n",
    "random_array4 = np.random.randint(10, size=(5,3))\n",
    "random_array4"
   ]
  },
  {
   "cell_type": "markdown",
   "id": "26eaa2e9-4bff-43fc-a6f0-eeaf2d202742",
   "metadata": {},
   "source": [
    "## Viewing array and Metrices"
   ]
  },
  {
   "cell_type": "code",
   "execution_count": 54,
   "id": "df35da9b-f7aa-47e1-997a-0b95fa80f5f1",
   "metadata": {},
   "outputs": [
    {
     "data": {
      "text/plain": [
       "array([1, 2])"
      ]
     },
     "execution_count": 54,
     "metadata": {},
     "output_type": "execute_result"
    }
   ],
   "source": [
    "np.unique([1,2,1,2,1,2,1,2])"
   ]
  },
  {
   "cell_type": "code",
   "execution_count": 55,
   "id": "bfe8c334-7e85-47f6-9fcb-6aade9af0b76",
   "metadata": {},
   "outputs": [
    {
     "data": {
      "text/plain": [
       "array([6.37851081e-08, 1.78466231e-06, 2.28581850e-06, ...,\n",
       "       9.99998197e-01, 9.99999517e-01, 9.99999886e-01], shape=(2500000,))"
      ]
     },
     "execution_count": 55,
     "metadata": {},
     "output_type": "execute_result"
    }
   ],
   "source": [
    "np.unique(random_array_2)"
   ]
  },
  {
   "cell_type": "code",
   "execution_count": 58,
   "id": "ad41d812-8125-4c38-b86d-765b5e2c6cab",
   "metadata": {},
   "outputs": [
    {
     "data": {
      "text/plain": [
       "np.float64(0.34803152205682963)"
      ]
     },
     "execution_count": 58,
     "metadata": {},
     "output_type": "execute_result"
    }
   ],
   "source": [
    "random_array_2[0][0][0]"
   ]
  },
  {
   "cell_type": "code",
   "execution_count": 62,
   "id": "e8231afc-f38d-4e9f-b756-84633aa1ca61",
   "metadata": {},
   "outputs": [
    {
     "data": {
      "text/plain": [
       "array([ True,  True,  True,  True,  True])"
      ]
     },
     "execution_count": 62,
     "metadata": {},
     "output_type": "execute_result"
    }
   ],
   "source": [
    "random_array_2[0][0][0:5] == random_array_2[0,0,0:5]"
   ]
  },
  {
   "cell_type": "code",
   "execution_count": 66,
   "id": "104215cf-c329-45e2-a6a2-f332786aa22e",
   "metadata": {},
   "outputs": [
    {
     "data": {
      "text/plain": [
       "array([[[2.04452250e-01],\n",
       "        [6.94400158e-01]],\n",
       "\n",
       "       [[3.74877507e-02],\n",
       "        [8.09591487e-01]],\n",
       "\n",
       "       [[3.17101513e-01],\n",
       "        [4.28568738e-02]],\n",
       "\n",
       "       [[5.31524399e-02],\n",
       "        [7.75138009e-01]],\n",
       "\n",
       "       [[4.09525353e-01],\n",
       "        [2.59145235e-01]],\n",
       "\n",
       "       [[7.98454498e-01],\n",
       "        [2.56747000e-02]],\n",
       "\n",
       "       [[2.93253977e-01],\n",
       "        [7.79305149e-01]],\n",
       "\n",
       "       [[6.58925264e-01],\n",
       "        [8.43332275e-01]],\n",
       "\n",
       "       [[6.61666668e-01],\n",
       "        [6.60085497e-01]],\n",
       "\n",
       "       [[5.20832389e-01],\n",
       "        [5.71577178e-01]],\n",
       "\n",
       "       [[5.12277040e-01],\n",
       "        [4.89753500e-01]],\n",
       "\n",
       "       [[4.86585313e-01],\n",
       "        [2.73255569e-01]],\n",
       "\n",
       "       [[5.20784480e-01],\n",
       "        [4.78808894e-01]],\n",
       "\n",
       "       [[4.59386048e-01],\n",
       "        [9.61445072e-01]],\n",
       "\n",
       "       [[9.61812044e-01],\n",
       "        [5.69067658e-01]],\n",
       "\n",
       "       [[7.48424675e-01],\n",
       "        [2.54878489e-01]],\n",
       "\n",
       "       [[4.73066349e-01],\n",
       "        [4.00353561e-01]],\n",
       "\n",
       "       [[1.65439365e-02],\n",
       "        [1.73480729e-01]],\n",
       "\n",
       "       [[1.02226760e-01],\n",
       "        [8.72228735e-01]],\n",
       "\n",
       "       [[9.31213640e-01],\n",
       "        [4.88684890e-01]],\n",
       "\n",
       "       [[4.82645437e-01],\n",
       "        [6.98429909e-01]],\n",
       "\n",
       "       [[5.44562197e-02],\n",
       "        [6.61887280e-01]],\n",
       "\n",
       "       [[4.27850648e-01],\n",
       "        [5.70019443e-01]],\n",
       "\n",
       "       [[4.05445040e-01],\n",
       "        [5.46194382e-01]],\n",
       "\n",
       "       [[9.37009273e-01],\n",
       "        [4.50020865e-05]],\n",
       "\n",
       "       [[7.81993943e-01],\n",
       "        [8.20212853e-01]],\n",
       "\n",
       "       [[2.10237832e-01],\n",
       "        [2.71362906e-01]],\n",
       "\n",
       "       [[8.77847547e-01],\n",
       "        [9.79526164e-01]],\n",
       "\n",
       "       [[7.51218387e-01],\n",
       "        [9.48107179e-01]],\n",
       "\n",
       "       [[8.71977697e-01],\n",
       "        [5.43810273e-01]],\n",
       "\n",
       "       [[1.57539001e-02],\n",
       "        [8.51109170e-01]],\n",
       "\n",
       "       [[9.22081512e-01],\n",
       "        [5.79077541e-01]],\n",
       "\n",
       "       [[6.85799683e-01],\n",
       "        [4.34475108e-01]],\n",
       "\n",
       "       [[5.02436128e-01],\n",
       "        [6.61535603e-01]],\n",
       "\n",
       "       [[6.79262219e-01],\n",
       "        [5.80475493e-01]],\n",
       "\n",
       "       [[3.38974589e-01],\n",
       "        [3.83526530e-01]],\n",
       "\n",
       "       [[4.62947485e-01],\n",
       "        [4.74539893e-01]],\n",
       "\n",
       "       [[2.21335062e-01],\n",
       "        [6.02804619e-01]],\n",
       "\n",
       "       [[4.22745015e-02],\n",
       "        [4.15872918e-01]],\n",
       "\n",
       "       [[7.34298329e-01],\n",
       "        [5.21325273e-01]],\n",
       "\n",
       "       [[3.51374429e-02],\n",
       "        [5.05989985e-01]],\n",
       "\n",
       "       [[1.10628208e-01],\n",
       "        [1.31895630e-01]],\n",
       "\n",
       "       [[9.62740672e-01],\n",
       "        [6.41812395e-01]],\n",
       "\n",
       "       [[1.27476241e-01],\n",
       "        [8.07742567e-01]],\n",
       "\n",
       "       [[5.98071119e-01],\n",
       "        [9.23741918e-02]],\n",
       "\n",
       "       [[6.16821164e-01],\n",
       "        [9.97250755e-01]],\n",
       "\n",
       "       [[4.88096617e-01],\n",
       "        [9.25377587e-02]],\n",
       "\n",
       "       [[8.34010411e-01],\n",
       "        [9.65887463e-01]],\n",
       "\n",
       "       [[2.20236917e-01],\n",
       "        [9.34733777e-01]],\n",
       "\n",
       "       [[8.82136712e-01],\n",
       "        [8.69852220e-01]]])"
      ]
     },
     "execution_count": 66,
     "metadata": {},
     "output_type": "execute_result"
    }
   ],
   "source": [
    "random_array_2[:,:2,0:1]"
   ]
  },
  {
   "cell_type": "markdown",
   "id": "c8c6cd1e-2be1-4b14-ba52-93b539c63b85",
   "metadata": {},
   "source": [
    "## Manipulation & comparing arrays"
   ]
  },
  {
   "cell_type": "code",
   "execution_count": 74,
   "id": "dcdf9de4-2783-4faa-9a4b-aa5a63ae89e9",
   "metadata": {},
   "outputs": [],
   "source": [
    "ones = np.ones(4)"
   ]
  },
  {
   "cell_type": "code",
   "execution_count": 82,
   "id": "8dccc34f-e3e0-4b3b-aa25-842c322abbe7",
   "metadata": {},
   "outputs": [],
   "source": [
    "array_1 = np.array([1,2,3,5])"
   ]
  },
  {
   "cell_type": "code",
   "execution_count": 75,
   "id": "23fb6458-0709-483b-91f7-7e07d0c336fc",
   "metadata": {},
   "outputs": [
    {
     "data": {
      "text/plain": [
       "array([2., 3., 4., 6.])"
      ]
     },
     "execution_count": 75,
     "metadata": {},
     "output_type": "execute_result"
    }
   ],
   "source": [
    "ones + array_1"
   ]
  },
  {
   "cell_type": "code",
   "execution_count": 83,
   "id": "e3af125e-39d2-4768-b609-6fe86c4134f1",
   "metadata": {},
   "outputs": [],
   "source": [
    "array_2 = np.array([[1,2,3,4],[5,6,7,8]])"
   ]
  },
  {
   "cell_type": "code",
   "execution_count": 84,
   "id": "2e119f6c-f179-49e8-8709-9317dd2b1208",
   "metadata": {},
   "outputs": [
    {
     "data": {
      "text/plain": [
       "array([[ 1,  4,  9, 20],\n",
       "       [ 5, 12, 21, 40]])"
      ]
     },
     "execution_count": 84,
     "metadata": {},
     "output_type": "execute_result"
    }
   ],
   "source": [
    "array_1 * array_2"
   ]
  },
  {
   "cell_type": "code",
   "execution_count": 85,
   "id": "4e1ea236-67ef-48f4-84e5-bb8c26ac53be",
   "metadata": {},
   "outputs": [
    {
     "data": {
      "text/plain": [
       "array([[1. , 2. , 3. , 4. ],\n",
       "       [1. , 2. , 3. , 4. ],\n",
       "       [0.5, 0.6, 0.7, 0.8]])"
      ]
     },
     "execution_count": 85,
     "metadata": {},
     "output_type": "execute_result"
    }
   ],
   "source": [
    "a2"
   ]
  },
  {
   "cell_type": "code",
   "execution_count": 86,
   "id": "09386f9b-489b-4329-b375-8cc04e2e1fe5",
   "metadata": {},
   "outputs": [
    {
     "data": {
      "text/plain": [
       "array([[[ 1,  2,  3],\n",
       "        [ 4,  5,  6],\n",
       "        [ 7,  8,  9]],\n",
       "\n",
       "       [[10, 11, 12],\n",
       "        [13, 14, 15],\n",
       "        [16, 17, 18]]])"
      ]
     },
     "execution_count": 86,
     "metadata": {},
     "output_type": "execute_result"
    }
   ],
   "source": [
    "a3"
   ]
  },
  {
   "cell_type": "code",
   "execution_count": 88,
   "id": "daebcb4f-feaf-43f4-9000-d13b784d8edb",
   "metadata": {},
   "outputs": [
    {
     "data": {
      "text/plain": [
       "array([[1., 1., 1., 1.],\n",
       "       [1., 1., 1., 1.],\n",
       "       [2., 3., 4., 4.]])"
      ]
     },
     "execution_count": 88,
     "metadata": {},
     "output_type": "execute_result"
    }
   ],
   "source": [
    "a1 // a2"
   ]
  },
  {
   "cell_type": "code",
   "execution_count": 89,
   "id": "d97c14aa-19aa-4b5b-b871-39d8bc9e5426",
   "metadata": {},
   "outputs": [
    {
     "data": {
      "text/plain": [
       "array([[1.        , 1.        , 1.        , 1.        ],\n",
       "       [1.        , 1.        , 1.        , 1.        ],\n",
       "       [2.        , 3.33333333, 4.28571429, 5.        ]])"
      ]
     },
     "execution_count": 89,
     "metadata": {},
     "output_type": "execute_result"
    }
   ],
   "source": [
    "a1 / a2"
   ]
  },
  {
   "cell_type": "code",
   "execution_count": 90,
   "id": "962f2b56-eab9-464c-a600-b061aa687ebb",
   "metadata": {},
   "outputs": [
    {
     "data": {
      "text/plain": [
       "array([[  1.        ,   4.        ,  27.        , 256.        ],\n",
       "       [  1.        ,   4.        ,  27.        , 256.        ],\n",
       "       [  1.        ,   1.51571657,   2.15766928,   3.03143313]])"
      ]
     },
     "execution_count": 90,
     "metadata": {},
     "output_type": "execute_result"
    }
   ],
   "source": [
    "a1 ** a2"
   ]
  },
  {
   "cell_type": "markdown",
   "id": "eef56529-d1c7-45d9-be45-d012a2dc79a2",
   "metadata": {},
   "source": [
    "## Aggregation\n",
    "Aggration = performin the same operation on a number of thing"
   ]
  },
  {
   "cell_type": "code",
   "execution_count": 92,
   "id": "bcbabcd0-8aff-423c-9d5c-6227a306be45",
   "metadata": {},
   "outputs": [
    {
     "data": {
      "text/plain": [
       "6"
      ]
     },
     "execution_count": 92,
     "metadata": {},
     "output_type": "execute_result"
    }
   ],
   "source": [
    "listy_list = [1,2,3]\n",
    "sum(listy_list)"
   ]
  },
  {
   "cell_type": "code",
   "execution_count": 94,
   "id": "4e947e41-7e4c-4807-bc99-de6355087f77",
   "metadata": {},
   "outputs": [],
   "source": [
    "listy_nplist = np.array(listy_list)"
   ]
  },
  {
   "cell_type": "code",
   "execution_count": 96,
   "id": "23a622d2-2384-4d72-a32f-cb74fed9dc14",
   "metadata": {},
   "outputs": [
    {
     "data": {
      "text/plain": [
       "np.int64(6)"
      ]
     },
     "execution_count": 96,
     "metadata": {},
     "output_type": "execute_result"
    }
   ],
   "source": [
    "np.sum(listy_nplist)"
   ]
  },
  {
   "cell_type": "code",
   "execution_count": 97,
   "id": "c9c86287-e574-4763-85d4-18b3580c795f",
   "metadata": {},
   "outputs": [
    {
     "data": {
      "text/plain": [
       "100000"
      ]
     },
     "execution_count": 97,
     "metadata": {},
     "output_type": "execute_result"
    }
   ],
   "source": [
    "massive_array = np.random.random(100000)\n",
    "massive_array.size"
   ]
  },
  {
   "cell_type": "code",
   "execution_count": 98,
   "id": "ee5250ec-e511-4f2e-b77e-f5650eac9ae5",
   "metadata": {},
   "outputs": [
    {
     "name": "stdout",
     "output_type": "stream",
     "text": [
      "12.7 ms ± 475 μs per loop (mean ± std. dev. of 7 runs, 10 loops each)\n",
      "70.2 μs ± 4.77 μs per loop (mean ± std. dev. of 7 runs, 10,000 loops each)\n"
     ]
    }
   ],
   "source": [
    "%timeit sum(massive_array)\n",
    "%timeit np.sum(massive_array)"
   ]
  },
  {
   "cell_type": "code",
   "execution_count": 101,
   "id": "d011a2aa-fbf0-4de4-a996-3ad34d22932b",
   "metadata": {},
   "outputs": [
    {
     "data": {
      "text/plain": [
       "np.float64(1.5980555555555551)"
      ]
     },
     "execution_count": 101,
     "metadata": {},
     "output_type": "execute_result"
    }
   ],
   "source": [
    "np.min(a2)\n",
    "\n",
    "np.std(a2) # strand devaition\n",
    "np.var(a2) # Variance"
   ]
  },
  {
   "cell_type": "markdown",
   "id": "3d789a32-79e8-4f4e-b1d1-66c6e37afaaf",
   "metadata": {},
   "source": [
    "## Reshiping & transposing"
   ]
  },
  {
   "cell_type": "code",
   "execution_count": 120,
   "id": "1720c19f-1ecf-4235-9d9d-60a6c7183ffe",
   "metadata": {},
   "outputs": [],
   "source": [
    "a2_1 = np.array([[1,2,3],[1,2,3],[0.5,0.6,0.7]])\n",
    "a3_1 = np.array([[[1,2,3],[1,2,3],[0.5,0.6,0.7]], [[1,2,3],[1,2,3],[0.5,0.6,0.7]]])"
   ]
  },
  {
   "cell_type": "code",
   "execution_count": 128,
   "id": "89a76ce3-a2bf-404e-a6cb-9b94b857c7ba",
   "metadata": {},
   "outputs": [],
   "source": [
    "a2_1_reshape = a2_1.reshape(1, 3,3)"
   ]
  },
  {
   "cell_type": "code",
   "execution_count": 126,
   "id": "dc6b4277-8565-43e2-b620-5f67e5bd3bf1",
   "metadata": {},
   "outputs": [
    {
     "data": {
      "text/plain": [
       "(3, 3, 1)"
      ]
     },
     "execution_count": 126,
     "metadata": {},
     "output_type": "execute_result"
    }
   ],
   "source": [
    "a2_1_reshape.shape"
   ]
  },
  {
   "cell_type": "code",
   "execution_count": 129,
   "id": "b21b6dd1-8ff7-452c-b7f3-1f4f6dbafe50",
   "metadata": {},
   "outputs": [
    {
     "data": {
      "text/plain": [
       "array([[[1.  , 4.  , 9.  ],\n",
       "        [1.  , 4.  , 9.  ],\n",
       "        [0.25, 0.36, 0.49]],\n",
       "\n",
       "       [[1.  , 4.  , 9.  ],\n",
       "        [1.  , 4.  , 9.  ],\n",
       "        [0.25, 0.36, 0.49]]])"
      ]
     },
     "execution_count": 129,
     "metadata": {},
     "output_type": "execute_result"
    }
   ],
   "source": [
    "a2_1_reshape * a3_1"
   ]
  },
  {
   "cell_type": "markdown",
   "id": "15b3bd76-6bb8-434f-912e-0c79e6351eaa",
   "metadata": {},
   "source": [
    "## Dot product"
   ]
  },
  {
   "cell_type": "code",
   "execution_count": 132,
   "id": "d814d66c-6599-4ddd-aac9-6c4a95193b00",
   "metadata": {},
   "outputs": [],
   "source": [
    "np.random.seed(0)\n",
    "mat1 = np.random.randint(10, size=(5,3))\n",
    "mat2 = np.random.randint(10, size=(5,3))"
   ]
  },
  {
   "cell_type": "code",
   "execution_count": 133,
   "id": "f03bcbe2-19b9-4830-9c8b-59bbf9654950",
   "metadata": {},
   "outputs": [
    {
     "data": {
      "text/plain": [
       "array([[30,  0, 21],\n",
       "       [24,  7, 45],\n",
       "       [27, 40, 18],\n",
       "       [16, 21,  0],\n",
       "       [24, 40,  0]], dtype=int32)"
      ]
     },
     "execution_count": 133,
     "metadata": {},
     "output_type": "execute_result"
    }
   ],
   "source": [
    "# Elemnt wise multiplication\n",
    "mat1 * mat2"
   ]
  },
  {
   "cell_type": "code",
   "execution_count": 134,
   "id": "a0ad3e06-b0e9-4241-b273-da400110a3cf",
   "metadata": {},
   "outputs": [
    {
     "ename": "ValueError",
     "evalue": "shapes (5,3) and (5,3) not aligned: 3 (dim 1) != 5 (dim 0)",
     "output_type": "error",
     "traceback": [
      "\u001b[1;31m---------------------------------------------------------------------------\u001b[0m",
      "\u001b[1;31mValueError\u001b[0m                                Traceback (most recent call last)",
      "Cell \u001b[1;32mIn[134], line 2\u001b[0m\n\u001b[0;32m      1\u001b[0m \u001b[38;5;66;03m# Dot prodect\u001b[39;00m\n\u001b[1;32m----> 2\u001b[0m np\u001b[38;5;241m.\u001b[39mdot(mat1, mat2)\n",
      "\u001b[1;31mValueError\u001b[0m: shapes (5,3) and (5,3) not aligned: 3 (dim 1) != 5 (dim 0)"
     ]
    }
   ],
   "source": [
    "# Dot prodect\n",
    "np.dot(mat1, mat2)"
   ]
  },
  {
   "cell_type": "code",
   "execution_count": 138,
   "id": "e69ea2f1-a2d1-45d1-940a-7a1288c32f9a",
   "metadata": {},
   "outputs": [],
   "source": [
    "# Transpose mat1\n",
    "mat2_t  = mat2.T"
   ]
  },
  {
   "cell_type": "code",
   "execution_count": 139,
   "id": "723828f3-a206-4d5e-8f82-51f8248828d7",
   "metadata": {},
   "outputs": [
    {
     "data": {
      "text/plain": [
       "array([[ 51,  55,  72,  20,  15],\n",
       "       [130,  76, 164,  33,  44],\n",
       "       [ 67,  39,  85,  27,  34],\n",
       "       [115,  69, 146,  37,  47],\n",
       "       [111,  77, 145,  56,  64]], dtype=int32)"
      ]
     },
     "execution_count": 139,
     "metadata": {},
     "output_type": "execute_result"
    }
   ],
   "source": [
    "# Dot prodect\n",
    "np.dot(mat1, mat2_t)"
   ]
  },
  {
   "cell_type": "markdown",
   "id": "6a2d8f93-6d11-4297-bedf-ced352027455",
   "metadata": {},
   "source": [
    "## Comparison Operators"
   ]
  },
  {
   "cell_type": "code",
   "execution_count": 140,
   "id": "012340bc-394f-461a-ae47-df464fac4b61",
   "metadata": {},
   "outputs": [
    {
     "data": {
      "text/plain": [
       "array([[False, False, False, False],\n",
       "       [False, False, False, False],\n",
       "       [ True,  True,  True,  True]])"
      ]
     },
     "execution_count": 140,
     "metadata": {},
     "output_type": "execute_result"
    }
   ],
   "source": [
    "a1 > a2"
   ]
  },
  {
   "cell_type": "code",
   "execution_count": 141,
   "id": "bd5eaa29-aadb-4b82-88ab-b98f513c27b6",
   "metadata": {},
   "outputs": [
    {
     "data": {
      "text/plain": [
       "array([[False, False, False, False],\n",
       "       [False, False, False, False],\n",
       "       [False, False, False, False]])"
      ]
     },
     "execution_count": 141,
     "metadata": {},
     "output_type": "execute_result"
    }
   ],
   "source": [
    "a2 > a1"
   ]
  },
  {
   "cell_type": "code",
   "execution_count": 145,
   "id": "92c7451e-59f4-4d13-9976-ddedd3285b4e",
   "metadata": {},
   "outputs": [
    {
     "data": {
      "text/plain": [
       "array([[ True,  True,  True,  True],\n",
       "       [ True,  True,  True,  True],\n",
       "       [False, False, False, False]])"
      ]
     },
     "execution_count": 145,
     "metadata": {},
     "output_type": "execute_result"
    }
   ],
   "source": [
    "a2 == a1"
   ]
  },
  {
   "cell_type": "code",
   "execution_count": 148,
   "id": "d90ba40f-185d-4511-bda6-c02464e7bbb0",
   "metadata": {},
   "outputs": [
    {
     "data": {
      "text/plain": [
       "False"
      ]
     },
     "execution_count": 148,
     "metadata": {},
     "output_type": "execute_result"
    }
   ],
   "source": [
    "a2 is a1"
   ]
  },
  {
   "cell_type": "code",
   "execution_count": 146,
   "id": "bd44b548-32c3-4ad7-bd23-0cc0b8c55c95",
   "metadata": {},
   "outputs": [
    {
     "data": {
      "text/plain": [
       "array([[False, False, False, False],\n",
       "       [False, False, False, False],\n",
       "       [False, False, False, False]])"
      ]
     },
     "execution_count": 146,
     "metadata": {},
     "output_type": "execute_result"
    }
   ],
   "source": [
    "a2 > 5"
   ]
  },
  {
   "cell_type": "code",
   "execution_count": 147,
   "id": "0ec84401-c96c-4d8b-b01d-5a207625e04e",
   "metadata": {},
   "outputs": [
    {
     "data": {
      "text/plain": [
       "array([[ True,  True,  True,  True],\n",
       "       [ True,  True,  True,  True],\n",
       "       [ True,  True,  True,  True]])"
      ]
     },
     "execution_count": 147,
     "metadata": {},
     "output_type": "execute_result"
    }
   ],
   "source": [
    "a2 < 5"
   ]
  },
  {
   "cell_type": "markdown",
   "id": "d8602496-0b70-44aa-a8dd-9667d754f549",
   "metadata": {},
   "source": [
    "## Sorting Arra"
   ]
  },
  {
   "cell_type": "code",
   "execution_count": 152,
   "id": "3534b1db-5550-49b1-a0af-12e5e8344d8b",
   "metadata": {},
   "outputs": [
    {
     "data": {
      "text/plain": [
       "array([[9, 4, 4, 6, 4],\n",
       "       [4, 3, 4, 4, 8],\n",
       "       [4, 3, 7, 5, 5]], dtype=int32)"
      ]
     },
     "execution_count": 152,
     "metadata": {},
     "output_type": "execute_result"
    }
   ],
   "source": [
    "random_array = np.random.randint(10, size=(3,5))\n",
    "random_array"
   ]
  },
  {
   "cell_type": "code",
   "execution_count": 153,
   "id": "bc8e478e-4de3-47d4-b7f8-38600a768cf5",
   "metadata": {},
   "outputs": [
    {
     "data": {
      "text/plain": [
       "array([[4, 4, 4, 6, 9],\n",
       "       [3, 4, 4, 4, 8],\n",
       "       [3, 4, 5, 5, 7]], dtype=int32)"
      ]
     },
     "execution_count": 153,
     "metadata": {},
     "output_type": "execute_result"
    }
   ],
   "source": [
    "np.sort(random_array)"
   ]
  },
  {
   "cell_type": "code",
   "execution_count": 154,
   "id": "45c27244-3c1a-43d0-9f5c-6658008ad613",
   "metadata": {},
   "outputs": [
    {
     "data": {
      "text/plain": [
       "array([[1, 2, 4, 3, 0],\n",
       "       [1, 0, 2, 3, 4],\n",
       "       [1, 0, 3, 4, 2]])"
      ]
     },
     "execution_count": 154,
     "metadata": {},
     "output_type": "execute_result"
    }
   ],
   "source": [
    "np.argsort(random_array)"
   ]
  },
  {
   "cell_type": "code",
   "execution_count": 158,
   "id": "18841872-5ff1-4554-8f57-3d394b5e7cf0",
   "metadata": {},
   "outputs": [
    {
     "data": {
      "text/plain": [
       "(array([1, 1, 0, 1, 0]),\n",
       " array([[9, 4, 4, 6, 4],\n",
       "        [4, 3, 4, 4, 8],\n",
       "        [4, 3, 7, 5, 5]], dtype=int32))"
      ]
     },
     "execution_count": 158,
     "metadata": {},
     "output_type": "execute_result"
    }
   ],
   "source": [
    "np.argmin(random_array, axis=0), random_array"
   ]
  },
  {
   "cell_type": "code",
   "execution_count": 160,
   "id": "0d9a5fa9-57c9-40a6-aeb6-ec79fb2fa52d",
   "metadata": {},
   "outputs": [
    {
     "data": {
      "text/plain": [
       "(array([1, 1, 1]),\n",
       " array([[9, 4, 4, 6, 4],\n",
       "        [4, 3, 4, 4, 8],\n",
       "        [4, 3, 7, 5, 5]], dtype=int32))"
      ]
     },
     "execution_count": 160,
     "metadata": {},
     "output_type": "execute_result"
    }
   ],
   "source": [
    "np.argmin(random_array, axis=1), random_array"
   ]
  },
  {
   "cell_type": "markdown",
   "id": "ed3c8890-3b7e-44d0-aa75-0b9ee93eb337",
   "metadata": {},
   "source": [
    "## Pracical Exemple - NumPy in Action!!!"
   ]
  },
  {
   "cell_type": "markdown",
   "id": "8ad2ae2d-346c-4b16-8bc8-ea5ea376bbb9",
   "metadata": {},
   "source": [
    "<img src=\"images/IMG_8751.JPG\"/>"
   ]
  },
  {
   "cell_type": "code",
   "execution_count": 163,
   "id": "23148c6e-190f-4b83-9eb6-14923525d07f",
   "metadata": {},
   "outputs": [
    {
     "name": "stdout",
     "output_type": "stream",
     "text": [
      "5235840 (1080, 1616, 3) 3\n"
     ]
    }
   ],
   "source": [
    "# Turn the image into a NumPy array\n",
    "from matplotlib.image import imread\n",
    "kerenel = imread(\"images/IMG_8751.JPG\")\n",
    "print(kerenel.size, kerenel.shape, kerenel.ndim)"
   ]
  },
  {
   "cell_type": "code",
   "execution_count": 164,
   "id": "28c020fd-b2b1-4ff1-9af9-3a1503a791e8",
   "metadata": {},
   "outputs": [
    {
     "data": {
      "text/plain": [
       "array([[[ 9,  7, 12],\n",
       "        [ 9,  7, 12],\n",
       "        [ 8,  6, 11],\n",
       "        ...,\n",
       "        [21, 21, 19],\n",
       "        [21, 21, 19],\n",
       "        [21, 21, 19]],\n",
       "\n",
       "       [[12,  6, 10],\n",
       "        [11,  5,  9],\n",
       "        [ 9,  4,  8],\n",
       "        ...,\n",
       "        [21, 21, 19],\n",
       "        [21, 21, 19],\n",
       "        [21, 21, 19]],\n",
       "\n",
       "       [[11,  7,  8],\n",
       "        [11,  7,  8],\n",
       "        [11,  7,  8],\n",
       "        ...,\n",
       "        [22, 23, 18],\n",
       "        [22, 23, 18],\n",
       "        [22, 23, 18]],\n",
       "\n",
       "       ...,\n",
       "\n",
       "       [[45, 24, 63],\n",
       "        [43, 22, 61],\n",
       "        [43, 22, 61],\n",
       "        ...,\n",
       "        [76, 76, 52],\n",
       "        [76, 76, 52],\n",
       "        [77, 77, 53]],\n",
       "\n",
       "       [[45, 28, 64],\n",
       "        [39, 22, 58],\n",
       "        [37, 20, 56],\n",
       "        ...,\n",
       "        [76, 76, 52],\n",
       "        [76, 76, 52],\n",
       "        [76, 76, 50]],\n",
       "\n",
       "       [[38, 24, 57],\n",
       "        [34, 20, 53],\n",
       "        [34, 20, 53],\n",
       "        ...,\n",
       "        [76, 76, 52],\n",
       "        [76, 76, 52],\n",
       "        [76, 76, 50]]], shape=(1080, 1616, 3), dtype=uint8)"
      ]
     },
     "execution_count": 164,
     "metadata": {},
     "output_type": "execute_result"
    }
   ],
   "source": [
    "kerenel"
   ]
  },
  {
   "cell_type": "code",
   "execution_count": null,
   "id": "ef1a99cb-de31-418e-833a-cb67309c4c3c",
   "metadata": {},
   "outputs": [],
   "source": []
  }
 ],
 "metadata": {
  "kernelspec": {
   "display_name": "Python 3 (ipykernel)",
   "language": "python",
   "name": "python3"
  },
  "language_info": {
   "codemirror_mode": {
    "name": "ipython",
    "version": 3
   },
   "file_extension": ".py",
   "mimetype": "text/x-python",
   "name": "python",
   "nbconvert_exporter": "python",
   "pygments_lexer": "ipython3",
   "version": "3.12.9"
  }
 },
 "nbformat": 4,
 "nbformat_minor": 5
}
