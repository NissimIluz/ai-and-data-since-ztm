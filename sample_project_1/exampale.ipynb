{
 "cells": [
  {
   "cell_type": "code",
   "execution_count": 1,
   "id": "e8d1c47e-eaad-4fd4-bd02-88fa3fcbebd8",
   "metadata": {},
   "outputs": [
    {
     "name": "stdout",
     "output_type": "stream",
     "text": [
      "hello world Nissim\n"
     ]
    }
   ],
   "source": [
    "print(\"hello world Nissim\")"
   ]
  },
  {
   "cell_type": "code",
   "execution_count": null,
   "id": "26b2aa79-a0dd-4223-b314-f46a7325f743",
   "metadata": {},
   "outputs": [],
   "source": []
  },
  {
   "cell_type": "markdown",
   "id": "6cd83e19-898d-447a-80c6-13f374e5213e",
   "metadata": {},
   "source": [
    "test"
   ]
  },
  {
   "cell_type": "raw",
   "id": "cacd465c-04b9-4526-89a3-871416fa0a23",
   "metadata": {},
   "source": [
    "test row"
   ]
  },
  {
   "cell_type": "markdown",
   "id": "47215ba7-24d6-4615-ba5c-ae793f957066",
   "metadata": {},
   "source": [
    "test row"
   ]
  },
  {
   "cell_type": "code",
   "execution_count": null,
   "id": "f218072e-548c-4d15-9ff6-8f43fc891e78",
   "metadata": {},
   "outputs": [],
   "source": []
  },
  {
   "cell_type": "code",
   "execution_count": null,
   "id": "f8db5457-89c7-47d2-b462-a0e6ba7fe7a4",
   "metadata": {},
   "outputs": [],
   "source": []
  },
  {
   "cell_type": "code",
   "execution_count": null,
   "id": "2279702f-9a89-40ce-bece-de30345a8e71",
   "metadata": {},
   "outputs": [],
   "source": []
  },
  {
   "cell_type": "code",
   "execution_count": null,
   "id": "95b4c9c5-e42b-4729-be08-87d37e742eda",
   "metadata": {},
   "outputs": [],
   "source": [
    "print(\"hello world Nissim\")"
   ]
  },
  {
   "cell_type": "code",
   "execution_count": 4,
   "id": "3f0706bf-9807-4f23-b6a5-428f6b1e7d5d",
   "metadata": {},
   "outputs": [],
   "source": [
    "a=5"
   ]
  },
  {
   "cell_type": "code",
   "execution_count": 5,
   "id": "4c515b2b-3342-4c0c-976c-5b99ef59d3e3",
   "metadata": {},
   "outputs": [],
   "source": [
    "a=6"
   ]
  },
  {
   "cell_type": "markdown",
   "id": "e0ea3528-361d-4abf-bb8a-edd9bdeaf59f",
   "metadata": {},
   "source": [
    "## sdfsdfdsfasd"
   ]
  },
  {
   "cell_type": "code",
   "execution_count": 7,
   "id": "b34227d3-4446-4f55-bb32-6737525659f2",
   "metadata": {},
   "outputs": [],
   "source": [
    "import pandas as pd"
   ]
  },
  {
   "cell_type": "code",
   "execution_count": null,
   "id": "89158739-8e40-4dbb-afe8-66df37dfa27c",
   "metadata": {},
   "outputs": [],
   "source": []
  },
  {
   "cell_type": "code",
   "execution_count": null,
   "id": "e639ed54-8739-410e-b8a6-cbcca9bdf88c",
   "metadata": {},
   "outputs": [],
   "source": []
  },
  {
   "cell_type": "code",
   "execution_count": null,
   "id": "8ecf9ea7-b68a-4da1-95eb-118f2e18758c",
   "metadata": {},
   "outputs": [],
   "source": [
    "df = pd.read_csv(\""
   ]
  }
 ],
 "metadata": {
  "kernelspec": {
   "display_name": "Python 3 (ipykernel)",
   "language": "python",
   "name": "python3"
  },
  "language_info": {
   "codemirror_mode": {
    "name": "ipython",
    "version": 3
   },
   "file_extension": ".py",
   "mimetype": "text/x-python",
   "name": "python",
   "nbconvert_exporter": "python",
   "pygments_lexer": "ipython3",
   "version": "3.12.9"
  }
 },
 "nbformat": 4,
 "nbformat_minor": 5
}
